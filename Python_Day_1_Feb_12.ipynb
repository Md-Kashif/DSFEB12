{
  "nbformat": 4,
  "nbformat_minor": 0,
  "metadata": {
    "colab": {
      "provenance": [],
      "authorship_tag": "ABX9TyOZsbGUsHthGMC64nXLaVbo",
      "include_colab_link": true
    },
    "kernelspec": {
      "name": "python3",
      "display_name": "Python 3"
    },
    "language_info": {
      "name": "python"
    }
  },
  "cells": [
    {
      "cell_type": "markdown",
      "metadata": {
        "id": "view-in-github",
        "colab_type": "text"
      },
      "source": [
        "<a href=\"https://colab.research.google.com/github/Md-Kashif/DSFEB12/blob/main/Python_Day_1_Feb_12.ipynb\" target=\"_parent\"><img src=\"https://colab.research.google.com/assets/colab-badge.svg\" alt=\"Open In Colab\"/></a>"
      ]
    },
    {
      "cell_type": "code",
      "execution_count": 1,
      "metadata": {
        "colab": {
          "base_uri": "https://localhost:8080/"
        },
        "id": "CyEOskg3YJ9C",
        "outputId": "d048ead4-1279-4bac-e756-7acc39a43dc9"
      },
      "outputs": [
        {
          "output_type": "stream",
          "name": "stdout",
          "text": [
            "My name is mohammed Kashif\n"
          ]
        }
      ],
      "source": [
        "print (\"My name is mohammed Kashif\")"
      ]
    },
    {
      "cell_type": "code",
      "source": [
        " # COMMENTS START WITH A HASH\n",
        " # ENTER - IT TO TEH NEXT LINE IN HTE SAME CODE BLOCK\n",
        " # SHIFT + ETER - EXECUTED THE CURRENT CODE BLOCK AND GOES TO THE NEXT CODE BLOCK\n",
        " # ALT + ENTER - IT ECUTED ONLY THE PARTICULAR CODE BLOCK AND CREARTES A NEW CODE BLOCK\n",
        " # COMMAND + ENTER - EXECUTES TEH PARTICLUARBLOCK OF CODE"
      ],
      "metadata": {
        "id": "a1Jxo6ppaGA1"
      },
      "execution_count": 3,
      "outputs": []
    },
    {
      "cell_type": "code",
      "source": [
        "# TYPES OF BRACKETS\n",
        "# [] - DATA EXTRACTION / SLICING OF DATA, LISTS\n",
        "# {} - DICTIONARIES / SETS\n",
        "# () - METHODS/ FINCTIONS, TUPLES"
      ],
      "metadata": {
        "id": "U8VZLN-1bMjU"
      },
      "execution_count": 5,
      "outputs": []
    },
    {
      "cell_type": "code",
      "source": [
        "# ----- VARIABLES AND DATA TYPES -----"
      ],
      "metadata": {
        "id": "zcFYMO3_b1K-"
      },
      "execution_count": 6,
      "outputs": []
    },
    {
      "cell_type": "code",
      "source": [
        "x = 20\n",
        "x "
      ],
      "metadata": {
        "colab": {
          "base_uri": "https://localhost:8080/"
        },
        "id": "3WcOPivRcN1B",
        "outputId": "e61933dc-9856-4cd0-e30c-17fe1d8d354b"
      },
      "execution_count": 7,
      "outputs": [
        {
          "output_type": "execute_result",
          "data": {
            "text/plain": [
              "20"
            ]
          },
          "metadata": {},
          "execution_count": 7
        }
      ]
    },
    {
      "cell_type": "code",
      "source": [
        "type (x)"
      ],
      "metadata": {
        "colab": {
          "base_uri": "https://localhost:8080/"
        },
        "id": "Na5GPza9chs6",
        "outputId": "9fa3248f-42d5-4736-8e63-164e2bbcdbd0"
      },
      "execution_count": 8,
      "outputs": [
        {
          "output_type": "execute_result",
          "data": {
            "text/plain": [
              "int"
            ]
          },
          "metadata": {},
          "execution_count": 8
        }
      ]
    },
    {
      "cell_type": "code",
      "source": [
        "y = \"Kashif\"\n",
        "y"
      ],
      "metadata": {
        "colab": {
          "base_uri": "https://localhost:8080/",
          "height": 35
        },
        "id": "kpDOUQ9xcknD",
        "outputId": "9f2dfd87-1458-489b-d9c1-d93714fd3ad8"
      },
      "execution_count": 9,
      "outputs": [
        {
          "output_type": "execute_result",
          "data": {
            "text/plain": [
              "'Kashif'"
            ],
            "application/vnd.google.colaboratory.intrinsic+json": {
              "type": "string"
            }
          },
          "metadata": {},
          "execution_count": 9
        }
      ]
    },
    {
      "cell_type": "code",
      "source": [
        "type (y)"
      ],
      "metadata": {
        "colab": {
          "base_uri": "https://localhost:8080/"
        },
        "id": "TbnRqL_pcodO",
        "outputId": "59e76d25-4971-436a-b90a-efb589cffc3a"
      },
      "execution_count": 10,
      "outputs": [
        {
          "output_type": "execute_result",
          "data": {
            "text/plain": [
              "str"
            ]
          },
          "metadata": {},
          "execution_count": 10
        }
      ]
    },
    {
      "cell_type": "code",
      "source": [
        "z = 13.5\n",
        "type (z)"
      ],
      "metadata": {
        "colab": {
          "base_uri": "https://localhost:8080/"
        },
        "id": "oBwKXXvecrC8",
        "outputId": "4cce1bb6-089c-4ec3-a5cb-2539a52f51aa"
      },
      "execution_count": 12,
      "outputs": [
        {
          "output_type": "execute_result",
          "data": {
            "text/plain": [
              "float"
            ]
          },
          "metadata": {},
          "execution_count": 12
        }
      ]
    },
    {
      "cell_type": "code",
      "source": [
        "a = True\n",
        "type (a)"
      ],
      "metadata": {
        "colab": {
          "base_uri": "https://localhost:8080/"
        },
        "id": "hoZqump3cvkI",
        "outputId": "90ffab3b-e7cf-4193-e34e-c5b61e3da58c"
      },
      "execution_count": 14,
      "outputs": [
        {
          "output_type": "execute_result",
          "data": {
            "text/plain": [
              "bool"
            ]
          },
          "metadata": {},
          "execution_count": 14
        }
      ]
    },
    {
      "cell_type": "code",
      "source": [
        "a = 20\n",
        "b = 10\n",
        "sum = a + b\n",
        "print (sum)"
      ],
      "metadata": {
        "colab": {
          "base_uri": "https://localhost:8080/"
        },
        "id": "w0nYPULTc10Z",
        "outputId": "8e4be1f9-1e5f-43e2-cd2b-32f494e55e7a"
      },
      "execution_count": 16,
      "outputs": [
        {
          "output_type": "stream",
          "name": "stdout",
          "text": [
            "30\n"
          ]
        }
      ]
    },
    {
      "cell_type": "code",
      "source": [
        "a = 100\n",
        "b = 80\n",
        "diff = a - b\n",
        "print (diff)"
      ],
      "metadata": {
        "colab": {
          "base_uri": "https://localhost:8080/"
        },
        "id": "SqmlfWkzdAKC",
        "outputId": "dacafa00-d5e4-46cb-9655-a8759eff9525"
      },
      "execution_count": 17,
      "outputs": [
        {
          "output_type": "stream",
          "name": "stdout",
          "text": [
            "20\n"
          ]
        }
      ]
    },
    {
      "cell_type": "code",
      "source": [
        "a = 990\n",
        "b = 99\n",
        "print (990/99)"
      ],
      "metadata": {
        "colab": {
          "base_uri": "https://localhost:8080/"
        },
        "id": "Gd5ZHkvedLtX",
        "outputId": "d164690a-e07e-4879-82ed-f553b20fe5a1"
      },
      "execution_count": 21,
      "outputs": [
        {
          "output_type": "stream",
          "name": "stdout",
          "text": [
            "10.0\n"
          ]
        }
      ]
    },
    {
      "cell_type": "code",
      "source": [
        "a = 85\n",
        "b = 10\n",
        "print (a * b)"
      ],
      "metadata": {
        "colab": {
          "base_uri": "https://localhost:8080/"
        },
        "id": "3vK9bKFddTlh",
        "outputId": "8058c648-13ee-40e5-a496-49cf20b21311"
      },
      "execution_count": 20,
      "outputs": [
        {
          "output_type": "stream",
          "name": "stdout",
          "text": [
            "850\n"
          ]
        }
      ]
    },
    {
      "cell_type": "code",
      "source": [
        "print(20 + 10)\n",
        "print(100 - 80)\n",
        "print(990 / 99)\n",
        "print(85 * 10)"
      ],
      "metadata": {
        "colab": {
          "base_uri": "https://localhost:8080/"
        },
        "id": "u49cUzhXddpf",
        "outputId": "4584ec80-c971-4c63-9968-579babf8718e"
      },
      "execution_count": 22,
      "outputs": [
        {
          "output_type": "stream",
          "name": "stdout",
          "text": [
            "30\n",
            "20\n",
            "10.0\n",
            "850\n"
          ]
        }
      ]
    },
    {
      "cell_type": "code",
      "source": [
        "list1 = [\"Kashif\", 22, 33.5, True]"
      ],
      "metadata": {
        "id": "d7_nb7SSd5i_"
      },
      "execution_count": 23,
      "outputs": []
    },
    {
      "cell_type": "code",
      "source": [
        "list1"
      ],
      "metadata": {
        "colab": {
          "base_uri": "https://localhost:8080/"
        },
        "id": "pg0iUnQpeqjj",
        "outputId": "1d3c76a9-96d3-4c5c-8c31-a17edf7d770e"
      },
      "execution_count": 25,
      "outputs": [
        {
          "output_type": "execute_result",
          "data": {
            "text/plain": [
              "['Kashif', 22, 33.5, True]"
            ]
          },
          "metadata": {},
          "execution_count": 25
        }
      ]
    },
    {
      "cell_type": "code",
      "source": [
        "#indexing in python starts with 0"
      ],
      "metadata": {
        "id": "0b4HY-NwetHL"
      },
      "execution_count": 26,
      "outputs": []
    },
    {
      "cell_type": "code",
      "source": [
        "list1[1]"
      ],
      "metadata": {
        "colab": {
          "base_uri": "https://localhost:8080/"
        },
        "id": "zTvrM-x3e9ij",
        "outputId": "6d859ed3-caf5-40de-f7eb-3cf5f83e53b2"
      },
      "execution_count": 27,
      "outputs": [
        {
          "output_type": "execute_result",
          "data": {
            "text/plain": [
              "22"
            ]
          },
          "metadata": {},
          "execution_count": 27
        }
      ]
    },
    {
      "cell_type": "code",
      "source": [
        "list1[1] = 23\n",
        "list1"
      ],
      "metadata": {
        "colab": {
          "base_uri": "https://localhost:8080/"
        },
        "id": "RPcH-Jx2fKl9",
        "outputId": "82a759c6-ec6f-44b7-ac97-0f0a98ba2fca"
      },
      "execution_count": 28,
      "outputs": [
        {
          "output_type": "execute_result",
          "data": {
            "text/plain": [
              "['Kashif', 23, 33.5, True]"
            ]
          },
          "metadata": {},
          "execution_count": 28
        }
      ]
    },
    {
      "cell_type": "code",
      "source": [],
      "metadata": {
        "id": "HdE8pRetfTZ2"
      },
      "execution_count": null,
      "outputs": []
    }
  ]
}